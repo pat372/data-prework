{
 "cells": [
  {
   "cell_type": "markdown",
   "metadata": {},
   "source": [
    "<img src=\"https://bit.ly/2VnXWr2\" width=\"100\" align=\"left\"/>"
   ]
  },
  {
   "cell_type": "markdown",
   "metadata": {},
   "source": [
    "# Robin Hood\n",
    "Robin Hood has entered a competition to win the archery contest in Sherwood. With his bow and arrows, he needs to shoot on a target and try to hit as close as possible to the center.\n",
    "\n",
    "![](images/arrows.jpg)\n",
    "\n",
    "## Context\n",
    "In this challenge, the landing position of arrows shot by archers in the competition will be represented using 2-dimensional coordinates. \n",
    "\n",
    "In the 2-dimensional space, a point can be defined by a pair of values that correspond to the horizontal coordinate (x) and the vertical coordinate (y). For example, in our case, an arrow that hits the center of the archery target will land in position (0, 0) on the coordinate axes. \n",
    "\n",
    "The space can be divided into 4 zones (quadrants): Q1, Q2, Q3, Q4. If a point is in Q1, both its x coordinate and y coordinate are positive. Any point with a null x or y coordinate is considered to not belong to any quadrant. \n",
    "\n",
    "If you want to know more about the cartesian coordinate system, you can check this [link](https://en.wikipedia.org/wiki/Cartesian_coordinate_system). \n",
    "\n",
    "## Tools\n",
    "You don't necessarily need to use all the tools. Maybe you opt to use some of them or completely different ones, they are given to help you shape the exercise. Programming exercises can be solved in many different ways.\n",
    "* Data structures: **lists, sets, tuples**\n",
    "* Conditional statements: **if-elif-else**\n",
    "* Loop: **while/for**\n",
    "* Minimum (optional sorting)\n",
    "\n",
    "## Tasks\n",
    "Robin Hood has hit the following points:"
   ]
  },
  {
   "cell_type": "code",
   "execution_count": 1,
   "metadata": {},
   "outputs": [],
   "source": [
    "points = [(4, 5), (-0, 2), (4, 7), (1, -3), (3, -2), (4, 5), (3, 2), (5, 7), (-5, 7), (2, 2), (-4, 5), (0, -2),\n",
    "          (-4, 7), (-1, 3), (-3, 2), (-4, -5), (-3, 2), (5, 7), (5, 7), (2, 2), (9, 9), (-8, -9)]"
   ]
  },
  {
   "cell_type": "markdown",
   "metadata": {},
   "source": [
    "#### 1. Robin Hood is famous for hitting an arrow with another arrow. Find the coordinates of the points where an arrow hits another arrow."
   ]
  },
  {
   "cell_type": "code",
   "execution_count": 2,
   "metadata": {},
   "outputs": [],
   "source": [
    "def ex1():\n",
    "    '''\n",
    "    Find the coordinates of the points where an arrow hits another arrow.\n",
    "    '''\n",
    "    seen = {}\n",
    "    duplicates = []\n",
    "    for p in points:\n",
    "        if p not in seen:\n",
    "            seen[p] = 1\n",
    "        else:\n",
    "            if seen[p] == 1:\n",
    "                duplicates.append(p)\n",
    "            seen[p] += 1\n",
    "    print(duplicates)\n",
    "    print('')"
   ]
  },
  {
   "cell_type": "markdown",
   "metadata": {},
   "source": [
    "#### 2. Calculate how many arrows have fallen in each quadrant. \n",
    "**Note**: the arrows that fall in the axis (x=0 or y=0) don't belong to any quadrant."
   ]
  },
  {
   "cell_type": "code",
   "execution_count": 3,
   "metadata": {},
   "outputs": [],
   "source": [
    "def ex2():\n",
    "    '''\n",
    "    Calculate how many arrows have fallen in each quadrants\n",
    "    4 zones quadrants:\n",
    "        * Q1: x>0 y>0\n",
    "        * Q2: x<0 y>0\n",
    "        * Q3: x>0 y<0\n",
    "        * Q4: x<0 y<0\n",
    "    '''\n",
    "    q1 = []\n",
    "    q2 = []\n",
    "    q3 = []\n",
    "    q4 = []\n",
    "    for p in points:\n",
    "        if p[0]>0 and p[1]>0:\n",
    "            q1.append(p)\n",
    "        elif p[0]<0 and p[1]>0:\n",
    "            q2.append(p)\n",
    "        elif p[0]>=0 and p[1]<0:\n",
    "            q3.append(p)\n",
    "        elif p[0]<0 and p[1]<0:\n",
    "            q4.append(p)\n",
    "    print('* Q1: {}'.format(len(q1)))\n",
    "    print('* Q2: {}'.format(len(q2)))\n",
    "    print('* Q3: {}'.format(len(q3)))\n",
    "    print('* Q4: {}'.format(len(q4)))\n",
    "    print('')"
   ]
  },
  {
   "cell_type": "markdown",
   "metadata": {},
   "source": [
    "#### 3. Find the point closest to the center. Calculate its distance to the center. \n",
    "Take into account that there might be more than one point at the minimum distance to the center.\n",
    "\n",
    "**Hint**: Use the Euclidean distance. You can find more information about it [here](https://en.wikipedia.org/wiki/Euclidean_distance).  \n",
    "**Hint**: Defining a function that calculates the distance to the center can help."
   ]
  },
  {
   "cell_type": "code",
   "execution_count": 4,
   "metadata": {},
   "outputs": [
    {
     "data": {
      "text/plain": [
       "{(4, 5): 6.4031242374328485,\n",
       " (0, 2): 2.0,\n",
       " (4, 7): 8.06225774829855,\n",
       " (1, -3): 3.1622776601683795,\n",
       " (3, -2): 3.605551275463989,\n",
       " (3, 2): 3.605551275463989,\n",
       " (5, 7): 8.602325267042627,\n",
       " (-5, 7): 8.602325267042627,\n",
       " (2, 2): 2.8284271247461903,\n",
       " (-4, 5): 6.4031242374328485,\n",
       " (0, -2): 2.0,\n",
       " (-4, 7): 8.06225774829855,\n",
       " (-1, 3): 3.1622776601683795,\n",
       " (-3, 2): 3.605551275463989,\n",
       " (-4, -5): 6.4031242374328485,\n",
       " (9, 9): 12.727922061357855,\n",
       " (-8, -9): 12.041594578792296}"
      ]
     },
     "execution_count": 4,
     "metadata": {},
     "output_type": "execute_result"
    }
   ],
   "source": [
    "# Distance Euclidienne: AB = v[(Xb-Xa)^2 + (Yb-Ya)^2]\n",
    "def ex3():\n",
    "    _euclidean_dist = {}\n",
    "    from math import sqrt\n",
    "    from math import pow    \n",
    "    for p in points:\n",
    "        d = sqrt(pow((0-p[0]), 2) + pow((0-p[1]), 2))\n",
    "        _euclidean_dist[p] = d\n",
    "    return _euclidean_dist\n",
    "ex3()"
   ]
  },
  {
   "cell_type": "markdown",
   "metadata": {},
   "source": [
    "#### 4. If the archery target has a radius of 9, calculate the number of arrows that won't hit the target. \n",
    "**Hint**: Use the function created in step 3. "
   ]
  },
  {
   "cell_type": "code",
   "execution_count": 6,
   "metadata": {},
   "outputs": [],
   "source": [
    "def ex4(euclidean_dist):\n",
    "    '''\n",
    "    Calculate the number of arrows that won't hit the target\n",
    "    '''\n",
    "    missed_target = 0\n",
    "    for p, ed in euclidean_dist.items():\n",
    "        if ed > 9:\n",
    "            missed_target += 1\n",
    "    print('The number of arrows that won\\'t hit the target is {}'.format(missed_target))"
   ]
  },
  {
   "cell_type": "code",
   "execution_count": 7,
   "metadata": {},
   "outputs": [
    {
     "name": "stdout",
     "output_type": "stream",
     "text": [
      "[(4, 5), (-3, 2), (5, 7), (2, 2)]\n",
      "\n",
      "* Q1: 10\n",
      "* Q2: 6\n",
      "* Q3: 3\n",
      "* Q4: 2\n",
      "\n",
      "The closest point to the center is: (0, 2)\n",
      "The closest point to the center is: (0, -2)\n",
      "\n",
      "The number of arrows that won't hit the target is 2\n"
     ]
    }
   ],
   "source": [
    "if __name__ == \"__main__\":\n",
    "    ex1()\n",
    "    ex2()\n",
    "    euclidean_dist = ex3()\n",
    "    min_euclidean_dist = min(euclidean_dist.values())\n",
    "    for p, ed in euclidean_dist.items():\n",
    "        if ed == min_euclidean_dist:\n",
    "            print('The closest point to the center is: {}'.format(p))\n",
    "    print('')\n",
    "    ex4(euclidean_dist)"
   ]
  },
  {
   "cell_type": "code",
   "execution_count": null,
   "metadata": {},
   "outputs": [],
   "source": []
  }
 ],
 "metadata": {
  "kernelspec": {
   "display_name": "Python 3",
   "language": "python",
   "name": "python3"
  },
  "language_info": {
   "codemirror_mode": {
    "name": "ipython",
    "version": 3
   },
   "file_extension": ".py",
   "mimetype": "text/x-python",
   "name": "python",
   "nbconvert_exporter": "python",
   "pygments_lexer": "ipython3",
   "version": "3.7.6"
  }
 },
 "nbformat": 4,
 "nbformat_minor": 2
}
